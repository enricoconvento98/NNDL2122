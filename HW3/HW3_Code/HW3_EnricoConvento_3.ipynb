{
  "nbformat": 4,
  "nbformat_minor": 0,
  "metadata": {
    "colab": {
      "name": "HW3_EnricoConvento_3.ipynb",
      "provenance": [],
      "collapsed_sections": []
    },
    "kernelspec": {
      "name": "python3",
      "display_name": "Python 3"
    },
    "language_info": {
      "name": "python"
    },
    "accelerator": "GPU"
  },
  "cells": [
    {
      "cell_type": "markdown",
      "source": [
        "Enrico Convento -- id:2023572\n",
        "\n",
        "Load the folling files if you want to avoid re-run the training:\n",
        "\n",
        "\n",
        "\n",
        "*   vanilla_ab\n",
        "\n",
        "*   vanilla_ab_scores\n",
        "*   comp_ab\n",
        "\n",
        "\n",
        "*   comp_ab_scores\n",
        "\n"
      ],
      "metadata": {
        "id": "v7j0tpWQ1H4D"
      }
    },
    {
      "cell_type": "markdown",
      "source": [
        "# Acrobot"
      ],
      "metadata": {
        "id": "JuWcht2H6NKq"
      }
    },
    {
      "cell_type": "code",
      "source": [
        "!pip install gym\n",
        "!pip install pyvirtualdisplay"
      ],
      "metadata": {
        "colab": {
          "base_uri": "https://localhost:8080/"
        },
        "id": "RRi_Hx3rYFN7",
        "outputId": "feb1e015-1968-4de8-8ed0-803a0e404a80"
      },
      "execution_count": 1,
      "outputs": [
        {
          "output_type": "stream",
          "name": "stdout",
          "text": [
            "Requirement already satisfied: gym in /usr/local/lib/python3.7/dist-packages (0.17.3)\n",
            "Requirement already satisfied: cloudpickle<1.7.0,>=1.2.0 in /usr/local/lib/python3.7/dist-packages (from gym) (1.3.0)\n",
            "Requirement already satisfied: numpy>=1.10.4 in /usr/local/lib/python3.7/dist-packages (from gym) (1.19.5)\n",
            "Requirement already satisfied: scipy in /usr/local/lib/python3.7/dist-packages (from gym) (1.4.1)\n",
            "Requirement already satisfied: pyglet<=1.5.0,>=1.4.0 in /usr/local/lib/python3.7/dist-packages (from gym) (1.5.0)\n",
            "Requirement already satisfied: future in /usr/local/lib/python3.7/dist-packages (from pyglet<=1.5.0,>=1.4.0->gym) (0.16.0)\n",
            "Collecting pyvirtualdisplay\n",
            "  Downloading PyVirtualDisplay-2.2-py3-none-any.whl (15 kB)\n",
            "Collecting EasyProcess\n",
            "  Downloading EasyProcess-1.1-py3-none-any.whl (8.7 kB)\n",
            "Installing collected packages: EasyProcess, pyvirtualdisplay\n",
            "Successfully installed EasyProcess-1.1 pyvirtualdisplay-2.2\n"
          ]
        }
      ]
    },
    {
      "cell_type": "code",
      "source": [
        "import random\n",
        "import numpy as np\n",
        "import pandas as pd\n",
        "import matplotlib.pyplot as plt\n",
        "import time\n",
        "\n",
        "import os\n",
        "from tqdm.notebook import tqdm\n",
        "\n",
        "\n",
        "import torch\n",
        "from torch import nn\n",
        "from torch import optim\n",
        "\n",
        "import gym\n",
        "\n",
        "from collections import deque, OrderedDict"
      ],
      "metadata": {
        "id": "t1at_k_7rAmR"
      },
      "execution_count": 2,
      "outputs": []
    },
    {
      "cell_type": "code",
      "source": [
        "from torchvision import transforms\n",
        "\n",
        "os.environ['CUDA_LAUNCH_BLOCKING'] = '1' # solving a bug of colab."
      ],
      "metadata": {
        "id": "Tg9OhOlxYa_j"
      },
      "execution_count": 3,
      "outputs": []
    },
    {
      "cell_type": "markdown",
      "source": [
        "## Colab setup"
      ],
      "metadata": {
        "id": "z-qfqkCG6Qmx"
      }
    },
    {
      "cell_type": "code",
      "source": [
        "## RENDERING ##\n",
        "\n",
        "!apt update\n",
        "!apt-get install python-opengl -y\n",
        "!apt install xvfb -y\n",
        "!pip install pyvirtualdisplay\n",
        "!pip install piglet\n",
        "\n",
        "import glob\n",
        "import io\n",
        "import base64\n",
        "import os\n",
        "from IPython.display import HTML\n",
        "from IPython import display as ipythondisplay\n",
        "from pyvirtualdisplay import Display\n",
        "from gym.wrappers import Monitor\n",
        "\n",
        "display = Display(visible=0, size=(1400, 900))\n",
        "display.start()\n",
        "\n",
        "# This code creates a virtual display to draw game images on. \n",
        "# If you are running locally, just ignore it\n",
        "if type(os.environ.get(\"DISPLAY\")) is not str or len(os.environ.get(\"DISPLAY\"))==0:\n",
        "    !bash ../xvfb start\n",
        "    %env DISPLAY=:1\n",
        "\n",
        "\"\"\"\n",
        "Utility functions to enable video recording of gym environment and displaying it\n",
        "To enable video, just do \"env = wrap_env(env)\"\"\n",
        "\"\"\"\n",
        "\n",
        "def show_videos():\n",
        "  mp4list = glob.glob('video/*.mp4')\n",
        "  mp4list.sort()\n",
        "  for mp4 in mp4list:\n",
        "    print(f\"\\nSHOWING VIDEO {mp4}\")\n",
        "    video = io.open(mp4, 'r+b').read()\n",
        "    encoded = base64.b64encode(video)\n",
        "    ipythondisplay.display(HTML(data='''<video alt=\"test\" autoplay \n",
        "                loop controls style=\"height: 400px;\">\n",
        "                <source src=\"data:video/mp4;base64,{0}\" type=\"video/mp4\" />\n",
        "             </video>'''.format(encoded.decode('ascii'))))\n",
        "    \n",
        "def wrap_env(env, video_callable=None):\n",
        "  env = Monitor(env, './videos', force=True, video_callable=video_callable)\n",
        "  return env"
      ],
      "metadata": {
        "colab": {
          "base_uri": "https://localhost:8080/"
        },
        "id": "U8RYKzBLYPOf",
        "outputId": "faed2e58-90d7-4ec1-d264-c16610f7582a"
      },
      "execution_count": 4,
      "outputs": [
        {
          "output_type": "stream",
          "name": "stdout",
          "text": [
            "Get:1 https://cloud.r-project.org/bin/linux/ubuntu bionic-cran40/ InRelease [3,626 B]\n",
            "Ign:2 https://developer.download.nvidia.com/compute/cuda/repos/ubuntu1804/x86_64  InRelease\n",
            "Ign:3 https://developer.download.nvidia.com/compute/machine-learning/repos/ubuntu1804/x86_64  InRelease\n",
            "Get:4 http://ppa.launchpad.net/c2d4u.team/c2d4u4.0+/ubuntu bionic InRelease [15.9 kB]\n",
            "Get:5 http://security.ubuntu.com/ubuntu bionic-security InRelease [88.7 kB]\n",
            "Get:6 https://developer.download.nvidia.com/compute/cuda/repos/ubuntu1804/x86_64  Release [696 B]\n",
            "Hit:7 https://developer.download.nvidia.com/compute/machine-learning/repos/ubuntu1804/x86_64  Release\n",
            "Get:8 https://developer.download.nvidia.com/compute/cuda/repos/ubuntu1804/x86_64  Release.gpg [836 B]\n",
            "Hit:9 http://archive.ubuntu.com/ubuntu bionic InRelease\n",
            "Get:10 http://archive.ubuntu.com/ubuntu bionic-updates InRelease [88.7 kB]\n",
            "Hit:11 http://ppa.launchpad.net/cran/libgit2/ubuntu bionic InRelease\n",
            "Get:13 http://archive.ubuntu.com/ubuntu bionic-backports InRelease [74.6 kB]\n",
            "Get:14 https://developer.download.nvidia.com/compute/cuda/repos/ubuntu1804/x86_64  Packages [917 kB]\n",
            "Hit:15 http://ppa.launchpad.net/deadsnakes/ppa/ubuntu bionic InRelease\n",
            "Get:16 http://ppa.launchpad.net/graphics-drivers/ppa/ubuntu bionic InRelease [21.3 kB]\n",
            "Get:17 http://ppa.launchpad.net/c2d4u.team/c2d4u4.0+/ubuntu bionic/main Sources [1,825 kB]\n",
            "Get:18 http://security.ubuntu.com/ubuntu bionic-security/restricted amd64 Packages [783 kB]\n",
            "Get:19 http://security.ubuntu.com/ubuntu bionic-security/universe amd64 Packages [1,468 kB]\n",
            "Get:20 http://archive.ubuntu.com/ubuntu bionic-updates/universe amd64 Packages [2,247 kB]\n",
            "Get:21 http://security.ubuntu.com/ubuntu bionic-security/multiverse amd64 Packages [21.1 kB]\n",
            "Get:22 http://security.ubuntu.com/ubuntu bionic-security/main amd64 Packages [2,564 kB]\n",
            "Get:23 http://ppa.launchpad.net/c2d4u.team/c2d4u4.0+/ubuntu bionic/main amd64 Packages [935 kB]\n",
            "Get:24 http://archive.ubuntu.com/ubuntu bionic-updates/main amd64 Packages [3,004 kB]\n",
            "Get:25 http://archive.ubuntu.com/ubuntu bionic-updates/restricted amd64 Packages [816 kB]\n",
            "Get:26 http://archive.ubuntu.com/ubuntu bionic-updates/multiverse amd64 Packages [29.0 kB]\n",
            "Get:27 http://ppa.launchpad.net/graphics-drivers/ppa/ubuntu bionic/main amd64 Packages [42.8 kB]\n",
            "Fetched 14.9 MB in 4s (3,992 kB/s)\n",
            "Reading package lists... Done\n",
            "Building dependency tree       \n",
            "Reading state information... Done\n",
            "63 packages can be upgraded. Run 'apt list --upgradable' to see them.\n",
            "Reading package lists... Done\n",
            "Building dependency tree       \n",
            "Reading state information... Done\n",
            "The following packages were automatically installed and are no longer required:\n",
            "  cuda-command-line-tools-10-0 cuda-command-line-tools-10-1\n",
            "  cuda-command-line-tools-11-0 cuda-compiler-10-0 cuda-compiler-10-1\n",
            "  cuda-compiler-11-0 cuda-cuobjdump-10-0 cuda-cuobjdump-10-1\n",
            "  cuda-cuobjdump-11-0 cuda-cupti-10-0 cuda-cupti-10-1 cuda-cupti-11-0\n",
            "  cuda-cupti-dev-11-0 cuda-documentation-10-0 cuda-documentation-10-1\n",
            "  cuda-documentation-11-0 cuda-documentation-11-1 cuda-gdb-10-0 cuda-gdb-10-1\n",
            "  cuda-gdb-11-0 cuda-gpu-library-advisor-10-0 cuda-gpu-library-advisor-10-1\n",
            "  cuda-libraries-10-0 cuda-libraries-10-1 cuda-libraries-11-0\n",
            "  cuda-memcheck-10-0 cuda-memcheck-10-1 cuda-memcheck-11-0 cuda-nsight-10-0\n",
            "  cuda-nsight-10-1 cuda-nsight-11-0 cuda-nsight-11-1 cuda-nsight-compute-10-0\n",
            "  cuda-nsight-compute-10-1 cuda-nsight-compute-11-0 cuda-nsight-compute-11-1\n",
            "  cuda-nsight-systems-10-1 cuda-nsight-systems-11-0 cuda-nsight-systems-11-1\n",
            "  cuda-nvcc-10-0 cuda-nvcc-10-1 cuda-nvcc-11-0 cuda-nvdisasm-10-0\n",
            "  cuda-nvdisasm-10-1 cuda-nvdisasm-11-0 cuda-nvml-dev-10-0 cuda-nvml-dev-10-1\n",
            "  cuda-nvml-dev-11-0 cuda-nvprof-10-0 cuda-nvprof-10-1 cuda-nvprof-11-0\n",
            "  cuda-nvprune-10-0 cuda-nvprune-10-1 cuda-nvprune-11-0 cuda-nvtx-10-0\n",
            "  cuda-nvtx-10-1 cuda-nvtx-11-0 cuda-nvvp-10-0 cuda-nvvp-10-1 cuda-nvvp-11-0\n",
            "  cuda-nvvp-11-1 cuda-samples-10-0 cuda-samples-10-1 cuda-samples-11-0\n",
            "  cuda-samples-11-1 cuda-sanitizer-11-0 cuda-sanitizer-api-10-1\n",
            "  cuda-toolkit-10-0 cuda-toolkit-10-1 cuda-toolkit-11-0 cuda-toolkit-11-1\n",
            "  cuda-tools-10-0 cuda-tools-10-1 cuda-tools-11-0 cuda-tools-11-1\n",
            "  cuda-visual-tools-10-0 cuda-visual-tools-10-1 cuda-visual-tools-11-0\n",
            "  cuda-visual-tools-11-1 default-jre dkms freeglut3-dev keyboard-configuration\n",
            "  libargon2-0 libcap2 libcryptsetup12 libdevmapper1.02.1 libfontenc1 libidn11\n",
            "  libip4tc0 libjansson4 libnvidia-cfg1-510 libnvidia-common-460\n",
            "  libnvidia-common-510 libnvidia-extra-510 libnvidia-fbc1-510 libnvidia-gl-510\n",
            "  libpam-systemd libpolkit-agent-1-0 libpolkit-backend-1-0\n",
            "  libpolkit-gobject-1-0 libxfont2 libxi-dev libxkbfile1 libxmu-dev\n",
            "  libxmu-headers libxnvctrl0 libxtst6 nsight-compute-2020.2.1\n",
            "  nsight-compute-2022.1.0 nsight-systems-2020.3.2 nsight-systems-2020.3.4\n",
            "  nsight-systems-2021.5.2 nvidia-dkms-510 nvidia-kernel-common-510\n",
            "  nvidia-kernel-source-510 nvidia-modprobe nvidia-settings openjdk-11-jre\n",
            "  policykit-1 policykit-1-gnome python3-xkit screen-resolution-extra systemd\n",
            "  systemd-sysv udev x11-xkb-utils xserver-common xserver-xorg-core-hwe-18.04\n",
            "  xserver-xorg-video-nvidia-510\n",
            "Use 'apt autoremove' to remove them.\n",
            "Suggested packages:\n",
            "  libgle3\n",
            "The following NEW packages will be installed:\n",
            "  python-opengl\n",
            "0 upgraded, 1 newly installed, 0 to remove and 63 not upgraded.\n",
            "Need to get 496 kB of archives.\n",
            "After this operation, 5,416 kB of additional disk space will be used.\n",
            "Get:1 http://archive.ubuntu.com/ubuntu bionic/universe amd64 python-opengl all 3.1.0+dfsg-1 [496 kB]\n",
            "Fetched 496 kB in 1s (612 kB/s)\n",
            "Selecting previously unselected package python-opengl.\n",
            "(Reading database ... 155113 files and directories currently installed.)\n",
            "Preparing to unpack .../python-opengl_3.1.0+dfsg-1_all.deb ...\n",
            "Unpacking python-opengl (3.1.0+dfsg-1) ...\n",
            "Setting up python-opengl (3.1.0+dfsg-1) ...\n",
            "Reading package lists... Done\n",
            "Building dependency tree       \n",
            "Reading state information... Done\n",
            "The following packages were automatically installed and are no longer required:\n",
            "  cuda-command-line-tools-10-0 cuda-command-line-tools-10-1\n",
            "  cuda-command-line-tools-11-0 cuda-compiler-10-0 cuda-compiler-10-1\n",
            "  cuda-compiler-11-0 cuda-cuobjdump-10-0 cuda-cuobjdump-10-1\n",
            "  cuda-cuobjdump-11-0 cuda-cupti-10-0 cuda-cupti-10-1 cuda-cupti-11-0\n",
            "  cuda-cupti-dev-11-0 cuda-documentation-10-0 cuda-documentation-10-1\n",
            "  cuda-documentation-11-0 cuda-documentation-11-1 cuda-gdb-10-0 cuda-gdb-10-1\n",
            "  cuda-gdb-11-0 cuda-gpu-library-advisor-10-0 cuda-gpu-library-advisor-10-1\n",
            "  cuda-libraries-10-0 cuda-libraries-10-1 cuda-libraries-11-0\n",
            "  cuda-memcheck-10-0 cuda-memcheck-10-1 cuda-memcheck-11-0 cuda-nsight-10-0\n",
            "  cuda-nsight-10-1 cuda-nsight-11-0 cuda-nsight-11-1 cuda-nsight-compute-10-0\n",
            "  cuda-nsight-compute-10-1 cuda-nsight-compute-11-0 cuda-nsight-compute-11-1\n",
            "  cuda-nsight-systems-10-1 cuda-nsight-systems-11-0 cuda-nsight-systems-11-1\n",
            "  cuda-nvcc-10-0 cuda-nvcc-10-1 cuda-nvcc-11-0 cuda-nvdisasm-10-0\n",
            "  cuda-nvdisasm-10-1 cuda-nvdisasm-11-0 cuda-nvml-dev-10-0 cuda-nvml-dev-10-1\n",
            "  cuda-nvml-dev-11-0 cuda-nvprof-10-0 cuda-nvprof-10-1 cuda-nvprof-11-0\n",
            "  cuda-nvprune-10-0 cuda-nvprune-10-1 cuda-nvprune-11-0 cuda-nvtx-10-0\n",
            "  cuda-nvtx-10-1 cuda-nvtx-11-0 cuda-nvvp-10-0 cuda-nvvp-10-1 cuda-nvvp-11-0\n",
            "  cuda-nvvp-11-1 cuda-samples-10-0 cuda-samples-10-1 cuda-samples-11-0\n",
            "  cuda-samples-11-1 cuda-sanitizer-11-0 cuda-sanitizer-api-10-1\n",
            "  cuda-toolkit-10-0 cuda-toolkit-10-1 cuda-toolkit-11-0 cuda-toolkit-11-1\n",
            "  cuda-tools-10-0 cuda-tools-10-1 cuda-tools-11-0 cuda-tools-11-1\n",
            "  cuda-visual-tools-10-0 cuda-visual-tools-10-1 cuda-visual-tools-11-0\n",
            "  cuda-visual-tools-11-1 default-jre dkms freeglut3-dev keyboard-configuration\n",
            "  libargon2-0 libcap2 libcryptsetup12 libdevmapper1.02.1 libidn11 libip4tc0\n",
            "  libjansson4 libnvidia-cfg1-510 libnvidia-common-460 libnvidia-common-510\n",
            "  libnvidia-extra-510 libnvidia-fbc1-510 libnvidia-gl-510 libpam-systemd\n",
            "  libpolkit-agent-1-0 libpolkit-backend-1-0 libpolkit-gobject-1-0 libxi-dev\n",
            "  libxmu-dev libxmu-headers libxnvctrl0 libxtst6 nsight-compute-2020.2.1\n",
            "  nsight-compute-2022.1.0 nsight-systems-2020.3.2 nsight-systems-2020.3.4\n",
            "  nsight-systems-2021.5.2 nvidia-dkms-510 nvidia-kernel-common-510\n",
            "  nvidia-kernel-source-510 nvidia-modprobe nvidia-settings openjdk-11-jre\n",
            "  policykit-1 policykit-1-gnome python3-xkit screen-resolution-extra systemd\n",
            "  systemd-sysv udev xserver-xorg-core-hwe-18.04 xserver-xorg-video-nvidia-510\n",
            "Use 'apt autoremove' to remove them.\n",
            "The following NEW packages will be installed:\n",
            "  xvfb\n",
            "0 upgraded, 1 newly installed, 0 to remove and 63 not upgraded.\n",
            "Need to get 784 kB of archives.\n",
            "After this operation, 2,271 kB of additional disk space will be used.\n",
            "Get:1 http://archive.ubuntu.com/ubuntu bionic-updates/universe amd64 xvfb amd64 2:1.19.6-1ubuntu4.10 [784 kB]\n",
            "Fetched 784 kB in 1s (826 kB/s)\n",
            "Selecting previously unselected package xvfb.\n",
            "(Reading database ... 157468 files and directories currently installed.)\n",
            "Preparing to unpack .../xvfb_2%3a1.19.6-1ubuntu4.10_amd64.deb ...\n",
            "Unpacking xvfb (2:1.19.6-1ubuntu4.10) ...\n",
            "Setting up xvfb (2:1.19.6-1ubuntu4.10) ...\n",
            "Processing triggers for man-db (2.8.3-2ubuntu0.1) ...\n",
            "Requirement already satisfied: pyvirtualdisplay in /usr/local/lib/python3.7/dist-packages (2.2)\n",
            "Requirement already satisfied: EasyProcess in /usr/local/lib/python3.7/dist-packages (from pyvirtualdisplay) (1.1)\n",
            "Collecting piglet\n",
            "  Downloading piglet-1.0.0-py2.py3-none-any.whl (2.2 kB)\n",
            "Collecting piglet-templates\n",
            "  Downloading piglet_templates-1.2.0-py3-none-any.whl (67 kB)\n",
            "\u001b[K     |████████████████████████████████| 67 kB 3.0 MB/s \n",
            "\u001b[?25hRequirement already satisfied: pyparsing in /usr/local/lib/python3.7/dist-packages (from piglet-templates->piglet) (3.0.7)\n",
            "Requirement already satisfied: astunparse in /usr/local/lib/python3.7/dist-packages (from piglet-templates->piglet) (1.6.3)\n",
            "Requirement already satisfied: attrs in /usr/local/lib/python3.7/dist-packages (from piglet-templates->piglet) (21.4.0)\n",
            "Requirement already satisfied: markupsafe in /usr/local/lib/python3.7/dist-packages (from piglet-templates->piglet) (2.0.1)\n",
            "Requirement already satisfied: wheel<1.0,>=0.23.0 in /usr/local/lib/python3.7/dist-packages (from astunparse->piglet-templates->piglet) (0.37.1)\n",
            "Requirement already satisfied: six<2.0,>=1.6.1 in /usr/local/lib/python3.7/dist-packages (from astunparse->piglet-templates->piglet) (1.15.0)\n",
            "Installing collected packages: piglet-templates, piglet\n",
            "Successfully installed piglet-1.0.0 piglet-templates-1.2.0\n"
          ]
        }
      ]
    },
    {
      "cell_type": "code",
      "source": [
        "## Video local saving ##\n",
        "\n",
        "from gym.wrappers.monitoring import video_recorder\n",
        "\n",
        "class EnvWrapper():\n",
        "  '''\n",
        "  There is bugin the gym code that doesn't allow the proper usage of gym.wrappers.Monitor\n",
        "  This class allows saving a video of the agent's behavior when using the local machine, by extending some functione of the gym environment.\n",
        "  \n",
        "  Agrs:\n",
        "    env: gym environment\n",
        "    video_path: string, where to save the video\n",
        "\n",
        "  '''\n",
        "\n",
        "  def __init__(self, env, video_path):\n",
        "    self.env = env\n",
        "    self.vid = video_recorder.VideoRecorder(self.env,path=video_path)\n",
        "\n",
        "  def close(self):\n",
        "    self.vid.close()\n",
        "    return self.env.close()\n",
        "\n",
        "  def reset(self):\n",
        "    return self.env.reset()\n",
        "\n",
        "  def seed(self, seed):\n",
        "    return self.env.seed(seed)\n",
        "\n",
        "  def step(self, *args, **kwargs):\n",
        "    return self.env.step(*args, **kwargs)\n",
        "\n",
        "  def render(self, mode='human'):\n",
        "    r = self.env.render(mode)\n",
        "    self.vid.capture_frame()\n",
        "    return r"
      ],
      "metadata": {
        "id": "CDZ9Y03sYThj"
      },
      "execution_count": 5,
      "outputs": []
    },
    {
      "cell_type": "markdown",
      "source": [
        "Check if GPU is available if yes use it if the flag is active"
      ],
      "metadata": {
        "id": "dRPTlzAN6nag"
      }
    },
    {
      "cell_type": "code",
      "source": [
        "use_gpu = True\n",
        "\n",
        "# Check if the GPU is available\n",
        "device = torch.device(\"cuda\") if (torch.cuda.is_available() and use_gpu) else torch.device(\"cpu\")\n",
        "if use_gpu:\n",
        "  print(f\"Training device: {device}: {torch.cuda.get_device_name(0)}\")\n",
        "else:\n",
        "  print(f'Training device: {device}')"
      ],
      "metadata": {
        "colab": {
          "base_uri": "https://localhost:8080/"
        },
        "id": "t8EfLta4XxtN",
        "outputId": "c18f0c2b-a07e-4486-80dd-39b9f6e035c4"
      },
      "execution_count": 6,
      "outputs": [
        {
          "output_type": "stream",
          "name": "stdout",
          "text": [
            "Training device: cuda: Tesla K80\n"
          ]
        }
      ]
    },
    {
      "cell_type": "markdown",
      "source": [
        "## Experience replay"
      ],
      "metadata": {
        "id": "8Nfr83xE8imC"
      }
    },
    {
      "cell_type": "code",
      "source": [
        "class ReplayMemory(object):\n",
        "\n",
        "    def __init__(self, capacity):\n",
        "        self.memory = deque(maxlen=capacity)\n",
        "\n",
        "    def push(self, state, action, next_state, reward):\n",
        "        self.memory.append((state, action, next_state, reward))\n",
        "\n",
        "    def sample(self, batch_size):\n",
        "        batch_size = min(batch_size, len(self)) # Get all the samples if the requested batch_size is higher than the number of sample currently in the memory\n",
        "        return random.sample(self.memory, batch_size)\n",
        "\n",
        "    def __len__(self):\n",
        "        return len(self.memory) # Return the number of samples currently stored in the memory"
      ],
      "metadata": {
        "id": "B26h-QlfXpAB"
      },
      "execution_count": 7,
      "outputs": []
    },
    {
      "cell_type": "markdown",
      "source": [
        "## Network"
      ],
      "metadata": {
        "id": "8b8dJkl-6yRX"
      }
    },
    {
      "cell_type": "code",
      "source": [
        "class FCN(nn.Module):\n",
        "  '''\n",
        "  Fully connencted network\n",
        "\n",
        "  Args:\n",
        "    Ni: input neurons\n",
        "    Nhs: list of neurons of the hidden layers\n",
        "    No: output neurons\n",
        "    activation_function: default nn.ReLU (beware not nn.ReLU() !!)\n",
        "    o_act: activation function after the output layer, default nn.Identity()\n",
        "  '''\n",
        "  def __init__(self, Ni, Nhs=None, No=10, activation_function=nn.ReLU, o_act=nn.Identity()):\n",
        "    super().__init__()\n",
        "\n",
        "    self.od = OrderedDict({})\n",
        "    self.shapes = [Ni]\n",
        "    if Nhs is not None and len(Nhs) > 0:\n",
        "      self.shapes += Nhs\n",
        "\n",
        "    for i,s in enumerate(self.shapes[:-1]):\n",
        "      self.od.update({f'lin{i+1}': nn.Linear(s, self.shapes[i+1])})\n",
        "      self.od.update({f'lin_act{i+1}': activation_function()})\n",
        "    \n",
        "    self.od.update({'out': nn.Linear(self.shapes[-1], No)})\n",
        "    self.shapes.append(No)\n",
        "\n",
        "    self.lin_layers = nn.Sequential(self.od)\n",
        "\n",
        "    self.o_act = o_act\n",
        "\n",
        "\n",
        "  def forward(self, x):\n",
        "    x = self.o_act(self.lin_layers(x))\n",
        "    return x\n"
      ],
      "metadata": {
        "id": "EydF9FNJrHyR"
      },
      "execution_count": 8,
      "outputs": []
    },
    {
      "cell_type": "markdown",
      "source": [
        "## Policies"
      ],
      "metadata": {
        "id": "GtJDfUKg7mSW"
      }
    },
    {
      "cell_type": "code",
      "source": [
        "def random_policy(q_values, temp):\n",
        "  '''\n",
        "  Args:\n",
        "    q_values: array like\n",
        "    temp: float, ignored\n",
        "\n",
        "  Returns a random value from 0 to len(q_values) - 1\n",
        "  '''\n",
        "  return np.random.randint(q_values.shape[-1])\n",
        "\n",
        "def greedy_policy(q_values, temp):\n",
        "  '''\n",
        "  Args:\n",
        "    q_values: array like\n",
        "    temp: float, ignored\n",
        "\n",
        "  Returns the argmax of q_values\n",
        "  '''\n",
        "  return int(q_values.argmax())\n",
        "\n",
        "\n",
        "def softmax_policy(q_values, temp):\n",
        "  '''\n",
        "  Args:\n",
        "    q_values: array like\n",
        "    temp: float, temperature of the softmax\n",
        "\n",
        "  Returns:\n",
        "    'a' with probability proportional to exp(q_values[a]/temp)\n",
        "  '''\n",
        "  if temp < 0:\n",
        "    raise ValueError(f'temperature must be >= 0, not {temp}')\n",
        "  if temp == 0:\n",
        "    return greedy_policy(q_values, temp)\n",
        "\n",
        "  temp = max(temp, 1e-8) # for numerical stability\n",
        "  softmax_out = nn.functional.softmax(q_values/temp, dim=0).cpu().numpy()\n",
        "\n",
        "  return np.random.choice(np.arange(softmax_out.shape[-1]), p=softmax_out)"
      ],
      "metadata": {
        "id": "1u9o1InzrVFi"
      },
      "execution_count": 9,
      "outputs": []
    },
    {
      "cell_type": "markdown",
      "source": [
        "## Exploration profile"
      ],
      "metadata": {
        "id": "lX1gc8PPOspR"
      }
    },
    {
      "cell_type": "code",
      "source": [
        "class ExplorationProfile():\n",
        "  '''\n",
        "  Temperature decays exponentially from 'start_value' to 'start_value'*exp(-'lam') over 'max_iterations' episodes.\n",
        "  '''\n",
        "\n",
        "  def __init__(self, max_iterations=1000, start_value=1, lam=10):\n",
        "    \n",
        "    exp_decay = np.exp(-lam/max_iterations)\n",
        "    self.profile = [start_value * (exp_decay ** i) for i in range(max_iterations)]\n",
        "\n",
        "  def __len__(self):\n",
        "    return len(self.profile)\n",
        "\n",
        "  def __getitem__(self, idx):\n",
        "    return self.profile[idx]\n",
        "\n",
        "  def update(self, training):\n",
        "    '''\n",
        "    In this base version does nothing\n",
        "    '''\n",
        "    return\n",
        "\n",
        "  def plot(self):\n",
        "    plt.figure(figsize=(12,8))\n",
        "    plt.plot(self.profile)\n",
        "    plt.grid()\n",
        "    plt.xlabel('Iteration')\n",
        "    plt.ylabel('Exploration profile')\n",
        "\n",
        "\n",
        "\n",
        "exploration_profile = ExplorationProfile(start_value=0.1, lam=10)\n",
        "exploration_profile.plot()"
      ],
      "metadata": {
        "id": "ZKFgsSpyrkIP",
        "outputId": "3d43c3d5-b153-46db-da3a-2704ac67ae30",
        "colab": {
          "base_uri": "https://localhost:8080/",
          "height": 497
        }
      },
      "execution_count": 10,
      "outputs": [
        {
          "output_type": "display_data",
          "data": {
            "image/png": "[encoded data removed]",
            "text/plain": [
              "<Figure size 864x576 with 1 Axes>"
            ]
          },
          "metadata": {
            "needs_background": "light"
          }
        }
      ]
    },
    {
      "cell_type": "markdown",
      "source": [
        "## Agent"
      ],
      "metadata": {
        "id": "RAfOawRv8d9M"
      }
    },
    {
      "cell_type": "code",
      "source": [
        "class Agent():\n",
        "  '''\n",
        "  Class for handling the interaction with a gym environment\n",
        "\n",
        "  Args:\n",
        "    env: gym environment\n",
        "    policy_net: neural network\n",
        "    policy\n",
        "  '''\n",
        "\n",
        "  def __init__(self, env, policy_net, policy=None):\n",
        "    self.env = env\n",
        "    self.policy_net = policy_net\n",
        "    self.policy = policy\n",
        "\n",
        "\n",
        "    self.score = 0\n",
        "    self.cumulated_reward = 0\n",
        "    self.t = 0\n",
        "\n",
        "    self.reward = 0\n",
        "    self.state = None\n",
        "\n",
        "    self.aux_state = None # is the normal state when using pixels\n",
        "    self.aux_next_state = None\n",
        "\n",
        "    self.action = None\n",
        "    self.next_state = None\n",
        "    self.q_values = None\n",
        "\n",
        "    self.is_ready = False\n",
        "\n",
        "  def run_episode(self, temp=0, max_score=500, min_score=-np.infty, modifier=None, verbose=True, test=False):\n",
        "    '''\n",
        "    Runs a single episode on the environment.\n",
        "\n",
        "    Args:\n",
        "      temperature: float (default 0): parameter for the policy\n",
        "      max_score: (default 500)\n",
        "      min_score: (default -np.infty):\n",
        "        stop interaction with the environment when score >= max_score or score <= min_score\n",
        "      modifier: None or function\n",
        "        modifies the reward and the score of the agent and takes care of optimizing the policy net parameters and to push samples to the replay memory\n",
        "      verbose: bool (default True)\n",
        "    '''\n",
        "    if test:\n",
        "      states = []\n",
        "      qvalues = []\n",
        "\n",
        "    self.t = 0\n",
        "    self.score = 0\n",
        "    self.cumulated_reward = 0\n",
        "    self.q_values = torch.zeros(self.policy_net.shapes[-1], dtype=torch.float32)\n",
        "    self.action = random_policy(self.q_values, 0) # select first action randomly in case the agent cannot evaluate the policy net\n",
        "    done = False\n",
        "\n",
        "\n",
        "    self.state = self.aux_state = self.env.reset()\n",
        "\n",
        "    while not done and self.score < max_score and self.score > min_score:\n",
        "      try:\n",
        "        \n",
        "        # compute q values\n",
        "        self.policy_net.eval()\n",
        "        with torch.no_grad():\n",
        "          \n",
        "          self.q_values = self.policy_net(torch.tensor(self.state, dtype=torch.float32))\n",
        "          if test:\n",
        "            states.append(self.state)\n",
        "            qvalues.append(self.q_values)\n",
        "        # choose action\n",
        "        self.action = self.policy(self.q_values, temp)\n",
        "        self.is_ready = True\n",
        "      except KeyboardInterrupt:\n",
        "        raise KeyboardInterrupt\n",
        "      except:\n",
        "        self.is_ready = False\n",
        "        self.action = random_policy(self.q_values, 0) # select first action randomly in case the agent cannot evaluate the policy net\n",
        "\n",
        "\n",
        "      # apply action\n",
        "      self.next_state, self.reward, done, info = self.env.step(self.action)\n",
        "\n",
        "      self.aux_next_state = self.next_state\n",
        "\n",
        "\n",
        "      if done:\n",
        "        self.next_state = None\n",
        "\n",
        "      # call the modifier\n",
        "      if modifier == None:\n",
        "        agent.score += 1\n",
        "      else:\n",
        "        modifier(self)\n",
        "\n",
        "      # update cumulated reward\n",
        "      self.cumulated_reward += self.reward\n",
        "\n",
        "      \n",
        "      self.state = self.next_state\n",
        "      self.aux_state = self.aux_next_state\n",
        "\n",
        "      self.t += 1\n",
        "\n",
        "    if verbose:\n",
        "      print(f' score: {self.score}')\n",
        "    if test:\n",
        "      return states,qvalues\n"
      ],
      "metadata": {
        "id": "dB91MKsZrOhL"
      },
      "execution_count": 11,
      "outputs": []
    },
    {
      "cell_type": "markdown",
      "source": [
        "## Training"
      ],
      "metadata": {
        "id": "VVXjsBzC8kui"
      }
    },
    {
      "cell_type": "code",
      "source": [
        "class Training():\n",
        "  '''\n",
        "  Class for training an agent.\n",
        "\n",
        "  Args:\n",
        "    agent: Agent\n",
        "    target_net: net to be used for computing expected Q-values.\n",
        "    update_target_net_every: number of episodes every which to update the target net\n",
        "\n",
        "    optimizer_type\n",
        "    optimizer_params\n",
        "    loss_function\n",
        "\n",
        "    memory_capacity\n",
        "      maximum number of samples for the replay memory\n",
        "    min_samples\n",
        "      minimum number of samples in the replay memory to start training the agent\n",
        "    batch_size\n",
        "\n",
        "    discount_rate\n",
        "\n",
        "    gradient_clip_value\n",
        "      Clips the norm of the gradient of the weight of the training net\n",
        "\n",
        "    score_to_beat:\n",
        "      minimum score by the agent at the end of an episode for considering the game beaten\n",
        "\n",
        "\n",
        "    device: GPU or CPU: default None, i.e. CPU\n",
        "  '''\n",
        "\n",
        "  def __init__(self, agent, target_net, optimizer_type, optimizer_params, loss_function, \n",
        "               memory_capacity=10000, min_samples=1000, batch_size=256,\n",
        "               discount_rate=0.97, gradient_clip_value=2,\n",
        "               score_to_beat=500, update_target_net_every=10, device=None):\n",
        "    \n",
        "    self.agent = agent\n",
        "    self.target_net = target_net\n",
        "    self.target_net.load_state_dict(self.agent.policy_net.state_dict())\n",
        "\n",
        "    self.optimizer = optimizer_type(self.agent.policy_net.parameters(), **optimizer_params)\n",
        "\n",
        "    self.loss_function = loss_function\n",
        "\n",
        "    self.replay_mem = ReplayMemory(memory_capacity)\n",
        "    self.min_samples = min_samples\n",
        "    self.batch_size = batch_size\n",
        "\n",
        "    self.discount_rate = discount_rate\n",
        "    self.gradient_clip_value = gradient_clip_value\n",
        "\n",
        "    self.device = device\n",
        "\n",
        "    self.episode_num = 0\n",
        "    self.perfect_consecutive_episodes = 0\n",
        "\n",
        "    self.score_to_beat = score_to_beat\n",
        "    self.update_target_net_every = update_target_net_every\n",
        "\n",
        "    self.score_log = []\n",
        "    self.cumulated_reward_log = []\n",
        "\n",
        "  def __len__(self):\n",
        "    return len(self.score_log)\n",
        "\n",
        "  def give_reward(self, agent):\n",
        "    # simply modify the score, no penalties or bonuses to the reward\n",
        "    agent.score += 1\n",
        "\n",
        "\n",
        "  def modifier(self, agent):\n",
        "    '''\n",
        "    Function that is passed to agent.run_episode\n",
        "    '''\n",
        "    # modify the reward of the agent: e.g. add penalties\n",
        "    self.give_reward(agent)\n",
        "\n",
        "    # add new samples to the replay memory\n",
        "    self.replay_mem.push(agent.state, agent.action, agent.next_state, agent.reward)\n",
        "    if len(self.replay_mem) == self.min_samples:\n",
        "      print('\\n\\nInitiating learning\\n\\n')\n",
        "    if len(self.replay_mem) > self.min_samples:\n",
        "      # update policy net\n",
        "      self.update_step()\n",
        "\n",
        "\n",
        "  def update_target_net(self, verbose=False):\n",
        "    if self.episode_num % self.update_target_net_every == 0:\n",
        "      if verbose:\n",
        "        print('Updating target net')\n",
        "      self.target_net.load_state_dict(self.agent.policy_net.state_dict())\n",
        "\n",
        "\n",
        "  def train(self, profile, verbose=False, min_perfect_episodes=10, max_score=500, min_score=-np.infty):\n",
        "    '''\n",
        "    Train the agent:\n",
        "\n",
        "    Args:\n",
        "      profile: ExplorationProfile instance. Learning will last at most len(profile) episodes\n",
        "      verbose\n",
        "      min_perfect_episodes\n",
        "        when the agent beats the game for min_perfect_episodes consecutive episodes learning stops.\n",
        "\n",
        "\n",
        "      Parameters that are simply passed to agent.run_episode:\n",
        "      \n",
        "        max_score\n",
        "        min_score\n",
        "    '''\n",
        "    if self.device is not None:\n",
        "      self.agent.policy_net.to(self.device)\n",
        "      self.target_net.to(device)\n",
        "\n",
        "    while self.episode_num < len(profile):\n",
        "      temp = profile[self.episode_num]\n",
        "      if verbose:\n",
        "        print(f'Episode {self.episode_num}: temp = {temp :.3e} -->',end='')\n",
        "\n",
        "      # run an episode\n",
        "      self.agent.run_episode(temp=temp, max_score=max_score, min_score=min_score, modifier= self.modifier, verbose=verbose)\n",
        "      # update target net\n",
        "      self.update_target_net(verbose=verbose)\n",
        "\n",
        "      # check if the agent beated the game\n",
        "      if self.agent.score >= self.score_to_beat:\n",
        "        self.perfect_consecutive_episodes += 1\n",
        "      else:\n",
        "        self.perfect_consecutive_episodes = 0\n",
        "\n",
        "      self.episode_num += 1\n",
        "      self.score_log.append(self.agent.score)\n",
        "      self.cumulated_reward_log.append(self.agent.cumulated_reward)\n",
        "\n",
        "      # update the temp profile\n",
        "      profile.update(self)\n",
        "\n",
        "      # stop updating if the agent consistently beats the game\n",
        "      if self.perfect_consecutive_episodes == min_perfect_episodes:\n",
        "        if verbose:\n",
        "          print('\\n\\n Game consistently beaten')\n",
        "        break\n",
        "\n",
        "  \n",
        "  def update_step(self):\n",
        "    '''\n",
        "    Updates the policy net of the agent\n",
        "    '''\n",
        "\n",
        "    # Sample the data from the replay memory\n",
        "    batch = self.replay_mem.sample(self.batch_size)\n",
        "    batch_size = len(batch)\n",
        "\n",
        "    # Create tensors for each element of the batch\n",
        "    \n",
        "    states                = torch.tensor([s[0] for s in batch], dtype=torch.float32)\n",
        "    non_final_next_states = torch.tensor([s[2] for s in batch if s[2] is not None], dtype=torch.float32) # the next state can be None if the game has ended\n",
        "\n",
        "    actions                 = torch.tensor([s[1] for s in batch], dtype=torch.int64, device=self.device)\n",
        "    rewards                 = torch.tensor([s[3] for s in batch], dtype=torch.float32, device=self.device)\n",
        "\n",
        "    # Compute a mask of non-final states (all the elements where the next state is not None)\n",
        "    non_final_mask = torch.tensor([s[2] is not None for s in batch], dtype=torch.bool, device=self.device)\n",
        "\n",
        "    # Compute all the Q values (forward pass)\n",
        "    self.agent.policy_net.train()\n",
        "    q_values = self.agent.policy_net(states)\n",
        "    # Select the proper Q value for the corresponding action taken Q(s_t, a)\n",
        "    state_action_values = q_values.gather(1, actions.unsqueeze(1))\n",
        "\n",
        "    # Compute the value function of the next states using the target network V(s_{t+1}) = max_a( Q_target(s_{t+1}, a)) )\n",
        "    with torch.no_grad():\n",
        "      self.target_net.eval()\n",
        "      q_values_target = self.target_net(non_final_next_states)\n",
        "    next_state_max_q_values = torch.zeros(batch_size, device=self.device)\n",
        "    next_state_max_q_values[non_final_mask] = q_values_target.max(dim=1)[0]\n",
        "\n",
        "    # Compute the expected Q values\n",
        "    expected_state_action_values = rewards + (next_state_max_q_values * self.discount_rate)\n",
        "    # Set the required tensor shape\n",
        "    expected_state_action_values = expected_state_action_values.unsqueeze(1)\n",
        "\n",
        "    # Compute the Huber loss\n",
        "    loss = self.loss_function(state_action_values, expected_state_action_values)\n",
        "\n",
        "    # Optimize the model\n",
        "    self.optimizer.zero_grad()\n",
        "    loss.backward()\n",
        "    # Apply gradient clipping (for training stability)\n",
        "    if self.gradient_clip_value > 0:\n",
        "      nn.utils.clip_grad_norm_(self.agent.policy_net.parameters(), self.gradient_clip_value)\n",
        "    self.optimizer.step()\n",
        "\n",
        "    del loss\n",
        "    del q_values\n",
        "    del state_action_values\n",
        "    torch.cuda.empty_cache()"
      ],
      "metadata": {
        "id": "c9HyUT9wrfPo"
      },
      "execution_count": 12,
      "outputs": []
    },
    {
      "cell_type": "markdown",
      "source": [
        "The height of the end point of the pendulum can computed as follow\n",
        "$h = −(cos(θ_1) + cos(θ_1 + θ_2) = sin θ_1 sin θ_2 − cos θ_1(1 + cos θ_2)$"
      ],
      "metadata": {
        "id": "oaEw1smHy8H_"
      }
    },
    {
      "cell_type": "code",
      "source": [
        "def height(t1, t2):\n",
        "  return np.sin(t1)*np.sin(t2) - np.cos(t1)*(1 + np.cos(t2))\n",
        "\n",
        "## TEST ##\n",
        "print ('height =', height(np.pi/4,np.pi/4))"
      ],
      "metadata": {
        "id": "PA5m5xoDqvHN",
        "colab": {
          "base_uri": "https://localhost:8080/"
        },
        "outputId": "d073b638-9ae7-4be9-bba3-3f4e19dbf91e"
      },
      "execution_count": 13,
      "outputs": [
        {
          "output_type": "stream",
          "name": "stdout",
          "text": [
            "height = -0.7071067811865476\n"
          ]
        }
      ]
    },
    {
      "cell_type": "code",
      "source": [
        "class Training_acrobot(Training):\n",
        "  '''\n",
        "  Modifies the reward adding to it \n",
        "\n",
        "  'w_h'*height**'e_h' \n",
        "  '''\n",
        "\n",
        "  def __init__(self, *args, height_weight=0, height_exponent=1, end_state_penalty=0, **kwargs):\n",
        "    super().__init__(*args, **kwargs)\n",
        "\n",
        "    self.h_w = height_weight\n",
        "    self.h_exp = height_exponent\n",
        "    self.end_state_penalty = end_state_penalty\n",
        "\n",
        "  def give_reward(self, agent):\n",
        "    agent.score -= 1\n",
        "\n",
        "    if agent.next_state is None:\n",
        "      agent.reward += self.end_state_penalty\n",
        "\n",
        "    else:\n",
        "      a_s = agent.aux_next_state\n",
        "      height = a_s[1]*a_s[3] - a_s[0]*(1 + a_s[2]) + 2\n",
        "       # this way it is 0 when the pendulum is resting downwards\n",
        "      agent.reward += self.h_w*height**self.h_exp "
      ],
      "metadata": {
        "id": "go1hgOgbqvC7"
      },
      "execution_count": 14,
      "outputs": []
    },
    {
      "cell_type": "markdown",
      "source": [
        "## Setup"
      ],
      "metadata": {
        "id": "O7uUBZYk76Ao"
      }
    },
    {
      "cell_type": "code",
      "source": [
        "### Create environment\n",
        "env = gym.make('Acrobot-v1') # Initialize the Gym environment\n",
        "env.seed(0) # Set a random seed for the environment (reproducible results)\n",
        "\n",
        "# Get the shapes of the state space (observation_space) and action space (action_space)\n",
        "state_space_dim = env.observation_space.shape[0]\n",
        "action_space_dim = env.action_space.n\n",
        "\n",
        "print(f\"STATE SPACE SIZE: {state_space_dim}\")\n",
        "print(f\"ACTION SPACE SIZE: {action_space_dim}\")\n",
        "\n",
        "env.close()\n"
      ],
      "metadata": {
        "id": "dLjemrh5qvQL",
        "colab": {
          "base_uri": "https://localhost:8080/"
        },
        "outputId": "6ac6f62d-5cba-434f-f556-c33ac7fd8633"
      },
      "execution_count": 15,
      "outputs": [
        {
          "output_type": "stream",
          "name": "stdout",
          "text": [
            "STATE SPACE SIZE: 6\n",
            "ACTION SPACE SIZE: 3\n"
          ]
        }
      ]
    },
    {
      "cell_type": "code",
      "source": [
        "## TEST ##\n",
        "env.reset()\n",
        "policy_net = FCN(Ni=state_space_dim,No=action_space_dim,)\n",
        "agent = Agent(env,policy_net,policy=random_policy)\n",
        "agent.run_episode()\n",
        "env.close()"
      ],
      "metadata": {
        "id": "rq_0LaBOqvNn",
        "colab": {
          "base_uri": "https://localhost:8080/"
        },
        "outputId": "c64f3b66-c7c5-4e8c-c2b6-7922ccc62465"
      },
      "execution_count": 16,
      "outputs": [
        {
          "output_type": "stream",
          "name": "stdout",
          "text": [
            " score: 500\n"
          ]
        }
      ]
    },
    {
      "cell_type": "markdown",
      "source": [
        "### Vanilla version"
      ],
      "metadata": {
        "id": "cxChmPSSysXJ"
      }
    },
    {
      "cell_type": "code",
      "source": [
        "net_params = {'Ni': state_space_dim, 'Nhs': [128, 128], 'No': action_space_dim, 'activation_function': nn.Tanh}\n",
        "\n",
        "policy_net = FCN(**net_params)\n",
        "target_net = FCN(**net_params)\n",
        "\n",
        "agent = Agent(None,policy_net,policy=softmax_policy) # for now set the env to None\n",
        "\n",
        "params = {'agent': agent, 'target_net': target_net, 'optimizer_type': optim.SGD, 'optimizer_params': {'lr': 1e-2},\n",
        "                  'loss_function': nn.SmoothL1Loss(), 'batch_size': 128,\n",
        "                  'end_state_penalty': 10,\n",
        "                  'update_target_net_every': 10, 'score_to_beat': -100}\n",
        "\n",
        "trainer = Training_acrobot(**params)\n",
        "trainer.score_to_beat = - 100\n",
        "\n"
      ],
      "metadata": {
        "id": "gIgZ32gqv7UC"
      },
      "execution_count": 17,
      "outputs": []
    },
    {
      "cell_type": "code",
      "source": [
        "# Run this cell only if you want to perform the training\n",
        "\n",
        "agent.env = gym.make('Acrobot-v1')\n",
        "agent.env.seed(0)\n",
        "\n",
        "try:\n",
        "  trainer.train(exploration_profile,verbose=True, min_score=-400)\n",
        "except KeyboardInterrupt:\n",
        "  print('\\n\\nTraining interrupted\\n\\n')\n",
        "agent.env.close()\n",
        "\n",
        "plt.figure(figsize=(9,6))\n",
        "plt.plot(trainer.score_log)"
      ],
      "metadata": {
        "colab": {
          "base_uri": "https://localhost:8080/",
          "height": 723
        },
        "id": "l8tTBJ0nysHT",
        "outputId": "a34ae5b4-a1dc-40aa-9054-63c51aa494b8"
      },
      "execution_count": null,
      "outputs": [
        {
          "output_type": "stream",
          "name": "stdout",
          "text": [
            "Episode 0: temp = 1.000e-01 --> score: -400\n",
            "Updating target net\n",
            "Episode 1: temp = 9.900e-02 --> score: -400\n",
            "Episode 2: temp = 9.802e-02 -->\n",
            "\n",
            "Initiating learning\n",
            "\n",
            "\n"
          ]
        },
        {
          "output_type": "stream",
          "name": "stderr",
          "text": [
            "/usr/local/lib/python3.7/dist-packages/ipykernel_launcher.py:155: UserWarning: Creating a tensor from a list of numpy.ndarrays is extremely slow. Please consider converting the list to a single numpy.ndarray with numpy.array() before converting to a tensor. (Triggered internally at  ../torch/csrc/utils/tensor_new.cpp:201.)\n"
          ]
        },
        {
          "output_type": "stream",
          "name": "stdout",
          "text": [
            " score: -400\n",
            "Episode 3: temp = 9.704e-02 --> score: -400\n",
            "Episode 4: temp = 9.608e-02 --> score: -400\n",
            "Episode 5: temp = 9.512e-02 -->\n",
            "\n",
            "Training interrupted\n",
            "\n",
            "\n"
          ]
        },
        {
          "output_type": "execute_result",
          "data": {
            "text/plain": [
              "[<matplotlib.lines.Line2D at 0x7f0456ae41d0>]"
            ]
          },
          "metadata": {},
          "execution_count": 39
        },
        {
          "output_type": "display_data",
          "data": {
            "image/png": "[encoded data removed]",
            "text/plain": [
              "<Figure size 648x432 with 1 Axes>"
            ]
          },
          "metadata": {
            "needs_background": "light"
          }
        }
      ]
    },
    {
      "cell_type": "code",
      "source": [
        "## Saving model ##\n",
        "#torch.save(trainer.agent.policy_net.state_dict(), 'vanilla_ab')\n",
        "\n",
        "trainer.agent.policy_net.load_state_dict(torch.load('vanilla_ab'))\n",
        "\n",
        "import pickle\n",
        "## SAVE SCORES AND PARAMS ##\n",
        "\n",
        "#with open(\"vanilla_ab_scores\", \"wb\") as fp:   #Pickling\n",
        "#  pickle.dump(trainer.score_log, fp)\n",
        "\n",
        "\n",
        "## LOAD SCORES AND PARAMS ##\n",
        "with open(\"vanilla_ab_scores\", \"rb\") as fp:   # Unpickling\n",
        "  episodes_trajectories = pickle.load(fp)\n",
        "fig, ax = plt.subplots(figsize=(9,6))\n",
        "ax.plot(episodes_trajectories)\n",
        "\n",
        "ax.set_ylabel('score' )\n",
        "ax.set_xlabel('episodes')\n",
        "\n",
        "ax2 = ax.twinx()\n",
        "ax2.plot(exploration_profile.profile[:len(episodes_trajectories)], color='purple', linestyle='dotted')\n",
        "ax2.set_ylabel('T profile')\n"
      ],
      "metadata": {
        "id": "7v_NRIql-DEw",
        "outputId": "7c0eb1bd-2004-43f2-8b1d-afe78d4b29be",
        "colab": {
          "base_uri": "https://localhost:8080/",
          "height": 406
        }
      },
      "execution_count": 18,
      "outputs": [
        {
          "output_type": "execute_result",
          "data": {
            "text/plain": [
              "Text(0, 0.5, 'T profile')"
            ]
          },
          "metadata": {},
          "execution_count": 18
        },
        {
          "output_type": "display_data",
          "data": {
            "image/png": "[encoded data removed]",
            "text/plain": [
              "<Figure size 648x432 with 2 Axes>"
            ]
          },
          "metadata": {
            "needs_background": "light"
          }
        }
      ]
    },
    {
      "cell_type": "markdown",
      "source": [
        "### Improved version"
      ],
      "metadata": {
        "id": "yXO5w_MnR0Xj"
      }
    },
    {
      "cell_type": "code",
      "source": [
        "net_params = {'Ni': state_space_dim, 'Nhs': [128, 128], 'No': action_space_dim, 'activation_function': nn.Tanh}\n",
        "\n",
        "policy_net = FCN(**net_params)\n",
        "target_net = FCN(**net_params)\n",
        "\n",
        "agent = Agent(None,policy_net,policy=softmax_policy) # for now set the env to None\n",
        "\n",
        "params = {'agent': agent, 'target_net': target_net, 'optimizer_type': optim.SGD, 'optimizer_params': {'lr': 1e-2},\n",
        "                  'loss_function': nn.SmoothL1Loss(), 'batch_size': 128,\n",
        "                  'height_weight': 0.5, 'height_exponent': 1, 'end_state_penalty': 10,\n",
        "                  'update_target_net_every': 10, 'score_to_beat': -100}\n",
        "\n",
        "trainer = Training_acrobot(**params)\n",
        "trainer.score_to_beat = - 100\n",
        "\n"
      ],
      "metadata": {
        "id": "uRdReaFKwDHY"
      },
      "execution_count": 19,
      "outputs": []
    },
    {
      "cell_type": "code",
      "source": [
        "# Run this cell only if you want to perform the training\n",
        "\n",
        "\n",
        "agent.env = gym.make('Acrobot-v1')\n",
        "agent.env.seed(0)\n",
        "\n",
        "try:\n",
        "  trainer.train(exploration_profile,verbose=True, min_score=-400)\n",
        "except KeyboardInterrupt:\n",
        "  print('\\n\\nTraining interrupted\\n\\n')\n",
        "agent.env.close()\n",
        "\n",
        "plt.figure(figsize=(9,6))\n",
        "plt.plot(trainer.score_log)"
      ],
      "metadata": {
        "colab": {
          "base_uri": "https://localhost:8080/",
          "height": 648
        },
        "id": "DfZG-e5Ar5g3",
        "outputId": "c903574a-1de7-47b1-d79c-d233a497369a"
      },
      "execution_count": null,
      "outputs": [
        {
          "output_type": "stream",
          "name": "stdout",
          "text": [
            "Episode 0: temp = 1.000e-01 --> score: -400\n",
            "Updating target net\n",
            "Episode 1: temp = 9.900e-02 --> score: -400\n",
            "Episode 2: temp = 9.802e-02 -->\n",
            "\n",
            "Initiating learning\n",
            "\n",
            "\n",
            " score: -400\n",
            "Episode 3: temp = 9.704e-02 -->\n",
            "\n",
            "Training interrupted\n",
            "\n",
            "\n"
          ]
        },
        {
          "output_type": "execute_result",
          "data": {
            "text/plain": [
              "[<matplotlib.lines.Line2D at 0x7f04558c31d0>]"
            ]
          },
          "metadata": {},
          "execution_count": 43
        },
        {
          "output_type": "display_data",
          "data": {
            "image/png": "[encoded data removed]",
            "text/plain": [
              "<Figure size 648x432 with 1 Axes>"
            ]
          },
          "metadata": {
            "needs_background": "light"
          }
        }
      ]
    },
    {
      "cell_type": "code",
      "source": [
        "## Saving model ##\n",
        "#torch.save(trainer.agent.policy_net.state_dict(), 'comp_ab')\n",
        "\n",
        "trainer.agent.policy_net.load_state_dict(torch.load('comp_ab'))\n",
        "\n",
        "import pickle\n",
        "## SAVE SCORES AND PARAMS ##\n",
        "\n",
        "#with open(\"comp_ab_scores\", \"wb\") as fp:   #Pickling\n",
        "#  pickle.dump(trainer.score_log, fp)\n",
        "\n",
        "\n",
        "## LOAD SCORES AND PARAMS ##\n",
        "with open(\"comp_ab_scores\", \"rb\") as fp:   # Unpickling\n",
        "  episodes_trajectories = pickle.load(fp)\n",
        "\n",
        "fig, ax = plt.subplots(figsize=(9,6))\n",
        "ax.plot(episodes_trajectories)\n",
        "\n",
        "ax.set_ylabel('score' )\n",
        "ax.set_xlabel('episodes')\n",
        "\n",
        "ax2 = ax.twinx()\n",
        "ax2.plot(exploration_profile.profile[:len(episodes_trajectories)], color='purple', linestyle='dotted')\n",
        "ax2.set_ylabel('T profile')"
      ],
      "metadata": {
        "id": "ijOxIfYF-5Tc",
        "outputId": "8439ad10-1df4-4891-ed85-c5a30231b285",
        "colab": {
          "base_uri": "https://localhost:8080/",
          "height": 408
        }
      },
      "execution_count": 20,
      "outputs": [
        {
          "output_type": "execute_result",
          "data": {
            "text/plain": [
              "Text(0, 0.5, 'T profile')"
            ]
          },
          "metadata": {},
          "execution_count": 20
        },
        {
          "output_type": "display_data",
          "data": {
            "image/png": "[encoded data removed]",
            "text/plain": [
              "<Figure size 648x432 with 2 Axes>"
            ]
          },
          "metadata": {
            "needs_background": "light"
          }
        }
      ]
    },
    {
      "cell_type": "markdown",
      "source": [
        "### Final test"
      ],
      "metadata": {
        "id": "uqOSNx7m9trH"
      }
    },
    {
      "cell_type": "code",
      "source": [
        "def mod(agent):\n",
        "  agent.score -= 1"
      ],
      "metadata": {
        "id": "fF4Fe9JRyrQE"
      },
      "execution_count": 21,
      "outputs": []
    },
    {
      "cell_type": "code",
      "source": [
        "agent.env = gym.make('Acrobot-v1')\n",
        "agent.env.seed(0)\n",
        "\n",
        "\n",
        "scores = []\n",
        "motorized_actions_percs = []\n",
        "for i in range(100):\n",
        "  states, qvalues = trainer.agent.run_episode(temp=0., modifier=mod, test = True)\n",
        "  actions = [int(q.argmax()) for q in qvalues]\n",
        "  a = np.array(actions) - 1\n",
        "  scores.append(trainer.agent.score)\n",
        "agent.env.close()\n",
        "\n",
        "print('\\n\\n\\n############################### \\n      MEAN SCORE:  ', np.mean(scores),'\\n###############################')"
      ],
      "metadata": {
        "colab": {
          "base_uri": "https://localhost:8080/"
        },
        "id": "aYmamEwCqu7v",
        "outputId": "4e655ca8-6f24-4328-d798-622a11c29be3"
      },
      "execution_count": 22,
      "outputs": [
        {
          "output_type": "stream",
          "name": "stdout",
          "text": [
            " score: -131\n",
            " score: -186\n",
            " score: -76\n",
            " score: -84\n",
            " score: -98\n",
            " score: -85\n",
            " score: -112\n",
            " score: -101\n",
            " score: -75\n",
            " score: -74\n",
            " score: -63\n",
            " score: -73\n",
            " score: -63\n",
            " score: -96\n",
            " score: -184\n",
            " score: -81\n",
            " score: -78\n",
            " score: -76\n",
            " score: -77\n",
            " score: -108\n",
            " score: -85\n",
            " score: -75\n",
            " score: -73\n",
            " score: -77\n",
            " score: -76\n",
            " score: -91\n",
            " score: -93\n",
            " score: -72\n",
            " score: -75\n",
            " score: -89\n",
            " score: -82\n",
            " score: -131\n",
            " score: -88\n",
            " score: -78\n",
            " score: -78\n",
            " score: -93\n",
            " score: -80\n",
            " score: -71\n",
            " score: -77\n",
            " score: -86\n",
            " score: -106\n",
            " score: -79\n",
            " score: -79\n",
            " score: -98\n",
            " score: -94\n",
            " score: -82\n",
            " score: -78\n",
            " score: -78\n",
            " score: -78\n",
            " score: -65\n",
            " score: -85\n",
            " score: -114\n",
            " score: -97\n",
            " score: -77\n",
            " score: -63\n",
            " score: -73\n",
            " score: -134\n",
            " score: -87\n",
            " score: -82\n",
            " score: -78\n",
            " score: -79\n",
            " score: -105\n",
            " score: -74\n",
            " score: -89\n",
            " score: -72\n",
            " score: -91\n",
            " score: -94\n",
            " score: -88\n",
            " score: -72\n",
            " score: -85\n",
            " score: -86\n",
            " score: -79\n",
            " score: -77\n",
            " score: -77\n",
            " score: -83\n",
            " score: -72\n",
            " score: -63\n",
            " score: -85\n",
            " score: -71\n",
            " score: -86\n",
            " score: -92\n",
            " score: -95\n",
            " score: -74\n",
            " score: -71\n",
            " score: -188\n",
            " score: -97\n",
            " score: -103\n",
            " score: -86\n",
            " score: -84\n",
            " score: -76\n",
            " score: -97\n",
            " score: -78\n",
            " score: -63\n",
            " score: -72\n",
            " score: -72\n",
            " score: -64\n",
            " score: -77\n",
            " score: -76\n",
            " score: -81\n",
            " score: -78\n",
            "\n",
            "\n",
            "\n",
            "############################### \n",
            "      MEAN SCORE:   -86.7 \n",
            "###############################\n"
          ]
        }
      ]
    }
  ]
}